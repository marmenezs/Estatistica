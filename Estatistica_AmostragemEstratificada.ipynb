{
 "cells": [
  {
   "cell_type": "markdown",
   "metadata": {},
   "source": [
    "Estatística - Amostragem Estratificada"
   ]
  },
  {
   "cell_type": "code",
   "execution_count": 1,
   "metadata": {},
   "outputs": [],
   "source": [
    "import pandas as pd\n",
    "from sklearn.model_selection import train_test_split"
   ]
  },
  {
   "cell_type": "code",
   "execution_count": 2,
   "metadata": {},
   "outputs": [
    {
     "data": {
      "text/html": [
       "<div>\n",
       "<style scoped>\n",
       "    .dataframe tbody tr th:only-of-type {\n",
       "        vertical-align: middle;\n",
       "    }\n",
       "\n",
       "    .dataframe tbody tr th {\n",
       "        vertical-align: top;\n",
       "    }\n",
       "\n",
       "    .dataframe thead th {\n",
       "        text-align: right;\n",
       "    }\n",
       "</style>\n",
       "<table border=\"1\" class=\"dataframe\">\n",
       "  <thead>\n",
       "    <tr style=\"text-align: right;\">\n",
       "      <th></th>\n",
       "      <th>sepal length</th>\n",
       "      <th>sepal width</th>\n",
       "      <th>petal length</th>\n",
       "      <th>petal width</th>\n",
       "      <th>class</th>\n",
       "    </tr>\n",
       "  </thead>\n",
       "  <tbody>\n",
       "    <tr>\n",
       "      <th>0</th>\n",
       "      <td>5.1</td>\n",
       "      <td>3.5</td>\n",
       "      <td>1.4</td>\n",
       "      <td>0.2</td>\n",
       "      <td>Iris-setosa</td>\n",
       "    </tr>\n",
       "    <tr>\n",
       "      <th>1</th>\n",
       "      <td>4.9</td>\n",
       "      <td>3.0</td>\n",
       "      <td>1.4</td>\n",
       "      <td>0.2</td>\n",
       "      <td>Iris-setosa</td>\n",
       "    </tr>\n",
       "    <tr>\n",
       "      <th>2</th>\n",
       "      <td>4.7</td>\n",
       "      <td>3.2</td>\n",
       "      <td>1.3</td>\n",
       "      <td>0.2</td>\n",
       "      <td>Iris-setosa</td>\n",
       "    </tr>\n",
       "    <tr>\n",
       "      <th>3</th>\n",
       "      <td>4.6</td>\n",
       "      <td>3.1</td>\n",
       "      <td>1.5</td>\n",
       "      <td>0.2</td>\n",
       "      <td>Iris-setosa</td>\n",
       "    </tr>\n",
       "    <tr>\n",
       "      <th>4</th>\n",
       "      <td>5.0</td>\n",
       "      <td>3.6</td>\n",
       "      <td>1.4</td>\n",
       "      <td>0.2</td>\n",
       "      <td>Iris-setosa</td>\n",
       "    </tr>\n",
       "  </tbody>\n",
       "</table>\n",
       "</div>"
      ],
      "text/plain": [
       "   sepal length  sepal width  petal length  petal width        class\n",
       "0           5.1          3.5           1.4          0.2  Iris-setosa\n",
       "1           4.9          3.0           1.4          0.2  Iris-setosa\n",
       "2           4.7          3.2           1.3          0.2  Iris-setosa\n",
       "3           4.6          3.1           1.5          0.2  Iris-setosa\n",
       "4           5.0          3.6           1.4          0.2  Iris-setosa"
      ]
     },
     "execution_count": 2,
     "metadata": {},
     "output_type": "execute_result"
    }
   ],
   "source": [
    "#carregando a base de dados\n",
    "dados = pd.read_csv('iris.csv')\n",
    "dados.head()"
   ]
  },
  {
   "cell_type": "code",
   "execution_count": 3,
   "metadata": {},
   "outputs": [
    {
     "data": {
      "text/plain": [
       "Iris-virginica     50\n",
       "Iris-setosa        50\n",
       "Iris-versicolor    50\n",
       "Name: class, dtype: int64"
      ]
     },
     "execution_count": 3,
     "metadata": {},
     "output_type": "execute_result"
    }
   ],
   "source": [
    "#contando os itens da coluna 'class'\n",
    "dados['class'].value_counts()"
   ]
  },
  {
   "cell_type": "code",
   "execution_count": 5,
   "metadata": {},
   "outputs": [
    {
     "data": {
      "text/plain": [
       "77     Iris-versicolor\n",
       "36         Iris-setosa\n",
       "53     Iris-versicolor\n",
       "48         Iris-setosa\n",
       "19         Iris-setosa\n",
       "30         Iris-setosa\n",
       "139     Iris-virginica\n",
       "55     Iris-versicolor\n",
       "57     Iris-versicolor\n",
       "1          Iris-setosa\n",
       "120     Iris-virginica\n",
       "109     Iris-virginica\n",
       "117     Iris-virginica\n",
       "127     Iris-virginica\n",
       "43         Iris-setosa\n",
       "115     Iris-virginica\n",
       "108     Iris-virginica\n",
       "81     Iris-versicolor\n",
       "4          Iris-setosa\n",
       "124     Iris-virginica\n",
       "131     Iris-virginica\n",
       "2          Iris-setosa\n",
       "88     Iris-versicolor\n",
       "133     Iris-virginica\n",
       "24         Iris-setosa\n",
       "101     Iris-virginica\n",
       "75     Iris-versicolor\n",
       "60     Iris-versicolor\n",
       "21         Iris-setosa\n",
       "38         Iris-setosa\n",
       "            ...       \n",
       "13         Iris-setosa\n",
       "0          Iris-setosa\n",
       "78     Iris-versicolor\n",
       "125     Iris-virginica\n",
       "82     Iris-versicolor\n",
       "95     Iris-versicolor\n",
       "142     Iris-virginica\n",
       "52     Iris-versicolor\n",
       "14         Iris-setosa\n",
       "50     Iris-versicolor\n",
       "33         Iris-setosa\n",
       "9          Iris-setosa\n",
       "7          Iris-setosa\n",
       "49         Iris-setosa\n",
       "84     Iris-versicolor\n",
       "58     Iris-versicolor\n",
       "114     Iris-virginica\n",
       "69     Iris-versicolor\n",
       "140     Iris-virginica\n",
       "34         Iris-setosa\n",
       "105     Iris-virginica\n",
       "73     Iris-versicolor\n",
       "86     Iris-versicolor\n",
       "23         Iris-setosa\n",
       "137     Iris-virginica\n",
       "107     Iris-virginica\n",
       "63     Iris-versicolor\n",
       "116     Iris-virginica\n",
       "97     Iris-versicolor\n",
       "40         Iris-setosa\n",
       "Name: class, Length: 75, dtype: object"
      ]
     },
     "execution_count": 5,
     "metadata": {},
     "output_type": "execute_result"
    }
   ],
   "source": [
    "#coletando uma amostra estratificada\n",
    "x, _, y, _ = train_test_split(dados.iloc[:, 0:4], dados.iloc[:,4], test_size = 0.5, stratify = dados.iloc[:,4])\n",
    "y\n",
    "\n",
    "#coloca 0.5 porque é 50%; se quisesse 40%, por exemplo, colocaria 'test_size = 0,6'"
   ]
  },
  {
   "cell_type": "code",
   "execution_count": 6,
   "metadata": {},
   "outputs": [
    {
     "data": {
      "text/plain": [
       "Iris-versicolor    25\n",
       "Iris-virginica     25\n",
       "Iris-setosa        25\n",
       "Name: class, dtype: int64"
      ]
     },
     "execution_count": 6,
     "metadata": {},
     "output_type": "execute_result"
    }
   ],
   "source": [
    "#verificando o tamanho da amostra estratificada\n",
    "y.value_counts()"
   ]
  },
  {
   "cell_type": "code",
   "execution_count": null,
   "metadata": {},
   "outputs": [],
   "source": []
  }
 ],
 "metadata": {
  "kernelspec": {
   "display_name": "Python 3",
   "language": "python",
   "name": "python3"
  },
  "language_info": {
   "codemirror_mode": {
    "name": "ipython",
    "version": 3
   },
   "file_extension": ".py",
   "mimetype": "text/x-python",
   "name": "python",
   "nbconvert_exporter": "python",
   "pygments_lexer": "ipython3",
   "version": "3.7.3"
  }
 },
 "nbformat": 4,
 "nbformat_minor": 2
}
