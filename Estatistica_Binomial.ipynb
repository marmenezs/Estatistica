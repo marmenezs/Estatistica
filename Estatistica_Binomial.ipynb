{
 "cells": [
  {
   "cell_type": "markdown",
   "metadata": {},
   "source": [
    "Estatística - Distribuição Binomial"
   ]
  },
  {
   "cell_type": "code",
   "execution_count": 5,
   "metadata": {},
   "outputs": [],
   "source": [
    "from scipy.stats import binom\n",
    "import numpy as np"
   ]
  },
  {
   "cell_type": "code",
   "execution_count": 6,
   "metadata": {},
   "outputs": [
    {
     "data": {
      "text/plain": [
       "0.3125"
      ]
     },
     "execution_count": 6,
     "metadata": {},
     "output_type": "execute_result"
    }
   ],
   "source": [
    "#calculando a probabilidade de jogar uma moeda 5 vezes e dar cara 3 vezes\n",
    "prob = binom.pmf(3, 5, 0.5)\n",
    "prob"
   ]
  },
  {
   "cell_type": "code",
   "execution_count": 11,
   "metadata": {},
   "outputs": [
    {
     "name": "stdout",
     "output_type": "stream",
     "text": [
      "0.31640625000000006\n",
      "0.4218750000000001\n",
      "0.21093750000000006\n",
      "0.046875000000000035\n",
      "0.003906250000000001\n",
      "1.0000000000000002\n"
     ]
    }
   ],
   "source": [
    "#calculando a probabilidade de passar por 4 sinais de 4 tempos e pegar sinal verde nenhuma, 1, 2, 3 ou 4 vezes seguidas\n",
    "prob0 = binom.pmf(0,4,0.25)\n",
    "prob1 = binom.pmf(1,4,0.25)\n",
    "prob2 = binom.pmf(2,4,0.25)\n",
    "prob3 = binom.pmf(3,4,0.25)\n",
    "prob4 = binom.pmf(4,4,0.25)\n",
    "\n",
    "print(prob0)\n",
    "print(prob1)\n",
    "print(prob2)\n",
    "print(prob3)\n",
    "print(prob4)\n",
    "\n",
    "somatorio = prob0 + prob1 + prob2 + prob3 + prob4\n",
    "print (somatorio)"
   ]
  },
  {
   "cell_type": "code",
   "execution_count": 12,
   "metadata": {},
   "outputs": [
    {
     "data": {
      "text/plain": [
       "1.0"
      ]
     },
     "execution_count": 12,
     "metadata": {},
     "output_type": "execute_result"
    }
   ],
   "source": [
    "#calculando probabilidade acumulada\n",
    "binom.cdf(4,4,0.25)"
   ]
  },
  {
   "cell_type": "code",
   "execution_count": 13,
   "metadata": {},
   "outputs": [
    {
     "data": {
      "text/plain": [
       "0.011471271514892573"
      ]
     },
     "execution_count": 13,
     "metadata": {},
     "output_type": "execute_result"
    }
   ],
   "source": [
    "#calculando a probabilidade de acertar 7 questões de 4 quesitos em uma prova com 12 questões\n",
    "binom.pmf(7,12,0.25)"
   ]
  },
  {
   "cell_type": "code",
   "execution_count": 14,
   "metadata": {},
   "outputs": [
    {
     "data": {
      "text/plain": [
       "5.960464477539072e-08"
      ]
     },
     "execution_count": 14,
     "metadata": {},
     "output_type": "execute_result"
    }
   ],
   "source": [
    "#calculando a probabilidade de gabaritar a prova\n",
    "binom.pmf(12,12,0.25)"
   ]
  },
  {
   "cell_type": "code",
   "execution_count": null,
   "metadata": {},
   "outputs": [],
   "source": []
  }
 ],
 "metadata": {
  "kernelspec": {
   "display_name": "Python 3",
   "language": "python",
   "name": "python3"
  },
  "language_info": {
   "codemirror_mode": {
    "name": "ipython",
    "version": 3
   },
   "file_extension": ".py",
   "mimetype": "text/x-python",
   "name": "python",
   "nbconvert_exporter": "python",
   "pygments_lexer": "ipython3",
   "version": "3.7.3"
  }
 },
 "nbformat": 4,
 "nbformat_minor": 2
}
