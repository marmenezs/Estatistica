{
 "cells": [
  {
   "cell_type": "markdown",
   "metadata": {},
   "source": [
    "Estatística - T Student"
   ]
  },
  {
   "cell_type": "code",
   "execution_count": 12,
   "metadata": {},
   "outputs": [],
   "source": [
    "from scipy.stats import t\n",
    "from math import sqrt"
   ]
  },
  {
   "cell_type": "markdown",
   "metadata": {},
   "source": [
    "EXEMPLO: Média de salário dos cientistas de dados = R$ 75,00 por hora\n",
    "Amostra com 9 funcionários e desvio padrão = 10\n",
    "\n",
    "Dados: n=9; s=10; mi=75\n",
    "\n",
    "calcula-se valor de t pela fórmula (x-mi)/(s/raiz(n))"
   ]
  },
  {
   "cell_type": "code",
   "execution_count": 14,
   "metadata": {},
   "outputs": [
    {
     "name": "stdout",
     "output_type": "stream",
     "text": [
      "1.5\n"
     ]
    },
    {
     "data": {
      "text/plain": [
       "0.9139983540240443"
      ]
     },
     "execution_count": 14,
     "metadata": {},
     "output_type": "execute_result"
    }
   ],
   "source": [
    "#calculando a probabilidade de selecionar um cientista de dados e o salário ser menor que R$ 80 por hora\n",
    "#primeiramente, calculamos t\n",
    "mi = 75\n",
    "s = 10\n",
    "n = 9\n",
    "x = 80\n",
    "\n",
    "t_stu = (x-mi)/(s/sqrt(n))\n",
    "print(t_stu)\n",
    "\n",
    "#em seguida, calculamos a probabilidade\n",
    "t.cdf(1.5,8) #8 graus de liberdade\n"
   ]
  },
  {
   "cell_type": "code",
   "execution_count": 15,
   "metadata": {},
   "outputs": [
    {
     "data": {
      "text/plain": [
       "0.08600164597595565"
      ]
     },
     "execution_count": 15,
     "metadata": {},
     "output_type": "execute_result"
    }
   ],
   "source": [
    "#calculando a probabilidade do salário ser maior do que 80\n",
    "t.sf(1.5,8)"
   ]
  },
  {
   "cell_type": "code",
   "execution_count": null,
   "metadata": {},
   "outputs": [],
   "source": []
  }
 ],
 "metadata": {
  "kernelspec": {
   "display_name": "Python 3",
   "language": "python",
   "name": "python3"
  },
  "language_info": {
   "codemirror_mode": {
    "name": "ipython",
    "version": 3
   },
   "file_extension": ".py",
   "mimetype": "text/x-python",
   "name": "python",
   "nbconvert_exporter": "python",
   "pygments_lexer": "ipython3",
   "version": "3.7.3"
  }
 },
 "nbformat": 4,
 "nbformat_minor": 2
}
